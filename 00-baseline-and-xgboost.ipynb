{
 "cells": [
  {
   "cell_type": "code",
   "execution_count": 1,
   "id": "6412a923",
   "metadata": {
    "_cell_guid": "b1076dfc-b9ad-4769-8c92-a6c4dae69d19",
    "_uuid": "8f2839f25d086af736a60e9eeb907d3b93b6e0e5",
    "execution": {
     "iopub.execute_input": "2025-06-28T01:24:19.504670Z",
     "iopub.status.busy": "2025-06-28T01:24:19.503910Z",
     "iopub.status.idle": "2025-06-28T01:24:21.198796Z",
     "shell.execute_reply": "2025-06-28T01:24:21.197806Z"
    },
    "papermill": {
     "duration": 1.70349,
     "end_time": "2025-06-28T01:24:21.200198",
     "exception": false,
     "start_time": "2025-06-28T01:24:19.496708",
     "status": "completed"
    },
    "tags": []
   },
   "outputs": [
    {
     "name": "stdout",
     "output_type": "stream",
     "text": [
      "/kaggle/input/llm-classification-finetuning/sample_submission.csv\n",
      "/kaggle/input/llm-classification-finetuning/train.csv\n",
      "/kaggle/input/llm-classification-finetuning/test.csv\n"
     ]
    }
   ],
   "source": [
    "# This Python 3 environment comes with many helpful analytics libraries installed\n",
    "# It is defined by the kaggle/python Docker image: https://github.com/kaggle/docker-python\n",
    "# For example, here's several helpful packages to load\n",
    "\n",
    "import numpy as np # linear algebra\n",
    "import pandas as pd # data processing, CSV file I/O (e.g. pd.read_csv)\n",
    "\n",
    "# Input data files are available in the read-only \"../input/\" directory\n",
    "# For example, running this (by clicking run or pressing Shift+Enter) will list all files under the input directory\n",
    "\n",
    "import os\n",
    "for dirname, _, filenames in os.walk('/kaggle/input'):\n",
    "    for filename in filenames:\n",
    "        print(os.path.join(dirname, filename))\n",
    "\n",
    "# You can write up to 20GB to the current directory (/kaggle/working/) that gets preserved as output when you create a version using \"Save & Run All\" \n",
    "# You can also write temporary files to /kaggle/temp/, but they won't be saved outside of the current session"
   ]
  },
  {
   "cell_type": "markdown",
   "id": "1c97ba77",
   "metadata": {
    "papermill": {
     "duration": 0.0049,
     "end_time": "2025-06-28T01:24:21.210798",
     "exception": false,
     "start_time": "2025-06-28T01:24:21.205898",
     "status": "completed"
    },
    "tags": []
   },
   "source": [
    "The competition dataset consists of user interactions from the ChatBot Arena. In each user interaction a judge provides one or more prompts to two different LLMs, and then indicates which of the models gave the more satisfactory response. The goal of the competition is to **predict the preferences of the judges** and **determine the likelihood that a given prompt/response pair is selected as the winner**.\n",
    "\n",
    "Please note that this is a Code Competition. When your submission is scored, this example test data will be replaced with the full test set. There are **55K rows in the training data**, and you can expect roughly **25,000 rows in the test set**."
   ]
  },
  {
   "cell_type": "markdown",
   "id": "170e0650",
   "metadata": {
    "papermill": {
     "duration": 0.004735,
     "end_time": "2025-06-28T01:24:21.220900",
     "exception": false,
     "start_time": "2025-06-28T01:24:21.216165",
     "status": "completed"
    },
    "tags": []
   },
   "source": [
    "train.csv\n",
    "\n",
    "* id - A unique identifier for the row.\n",
    "* model_[a/b] - The identity of model_[a/b]. Included in train.csv but not test.csv.\n",
    "* prompt - The prompt that was given as an input (to both models).\n",
    "* response_[a/b] - The response from model_[a/b] to the given prompt.\n",
    "* winner_model_[a/b/tie] - Binary columns marking the judge's selection. The ground truth target column."
   ]
  },
  {
   "cell_type": "markdown",
   "id": "410197b5",
   "metadata": {
    "papermill": {
     "duration": 0.004788,
     "end_time": "2025-06-28T01:24:21.230681",
     "exception": false,
     "start_time": "2025-06-28T01:24:21.225893",
     "status": "completed"
    },
    "tags": []
   },
   "source": [
    "# Define the problem:\n",
    "* Problem Type: multinomial classification problem (who wins\" A, B, Tie)\n",
    "* Output: prdict the likeihood (probability)\n",
    "\n",
    "\n",
    "==> Which Model?\n",
    "classification problem:\n",
    "logistic regression, decision tree, random forest, XGBoost, LightGBM, neural network\n",
    "\n",
    "We can chooose the model in after observing the data type."
   ]
  },
  {
   "cell_type": "code",
   "execution_count": 2,
   "id": "51a9898e",
   "metadata": {
    "execution": {
     "iopub.execute_input": "2025-06-28T01:24:21.242782Z",
     "iopub.status.busy": "2025-06-28T01:24:21.241959Z",
     "iopub.status.idle": "2025-06-28T01:24:25.899121Z",
     "shell.execute_reply": "2025-06-28T01:24:25.898232Z"
    },
    "papermill": {
     "duration": 4.665067,
     "end_time": "2025-06-28T01:24:25.900759",
     "exception": false,
     "start_time": "2025-06-28T01:24:21.235692",
     "status": "completed"
    },
    "tags": []
   },
   "outputs": [
    {
     "name": "stdout",
     "output_type": "stream",
     "text": [
      "               id             model_a              model_b  \\\n",
      "0           30192  gpt-4-1106-preview           gpt-4-0613   \n",
      "1           53567           koala-13b           gpt-4-0613   \n",
      "2           65089  gpt-3.5-turbo-0613       mistral-medium   \n",
      "3           96401    llama-2-13b-chat  mistral-7b-instruct   \n",
      "4          198779           koala-13b   gpt-3.5-turbo-0314   \n",
      "...           ...                 ...                  ...   \n",
      "57472  4294656694          gpt-4-0613             claude-1   \n",
      "57473  4294692063          claude-2.0     llama-2-13b-chat   \n",
      "57474  4294710549            claude-1           alpaca-13b   \n",
      "57475  4294899228              palm-2       tulu-2-dpo-70b   \n",
      "57476  4294947231  gemini-pro-dev-api   gpt-4-1106-preview   \n",
      "\n",
      "                                                  prompt  \\\n",
      "0      [\"Is it morally right to try to have a certain...   \n",
      "1      [\"What is the difference between marriage lice...   \n",
      "2      [\"explain function calling. how would you call...   \n",
      "3      [\"How can I create a test set for a very rare ...   \n",
      "4      [\"What is the best way to travel from Tel-Aviv...   \n",
      "...                                                  ...   \n",
      "57472  [\"A simple mnemonic for \\u03c0:\\n\\\"How I wish ...   \n",
      "57473  [\"In python, implement a naive Bayes with gaus...   \n",
      "57474  [\"is it unethical to work on building weapons?...   \n",
      "57475  [\"If a bait contains 0,0025% bromadiolon then ...   \n",
      "57476  [\"three kids eat three apples in three days, h...   \n",
      "\n",
      "                                              response_a  \\\n",
      "0      [\"The question of whether it is morally right ...   \n",
      "1      [\"A marriage license is a legal document that ...   \n",
      "2      [\"Function calling is the process of invoking ...   \n",
      "3      [\"Creating a test set for a very rare category...   \n",
      "4      [\"The best way to travel from Tel Aviv to Jeru...   \n",
      "...                                                  ...   \n",
      "57472  [\"Sure, let's break it down:\\n\\n1. \\\"How\\\" has...   \n",
      "57473  [\"Here is an implementation of a naive Bayes c...   \n",
      "57474  [\"Working on weapons technology raises some et...   \n",
      "57475  [\"Bromadiolone is a rodenticide which is most ...   \n",
      "57476                                      [\"27 apples\"]   \n",
      "\n",
      "                                              response_b  winner_model_a  \\\n",
      "0      [\"As an AI, I don't have personal beliefs or o...               1   \n",
      "1      [\"A marriage license and a marriage certificat...               0   \n",
      "2      [\"Function calling is the process of invoking ...               0   \n",
      "3      [\"When building a classifier for a very rare c...               1   \n",
      "4      [\"The best way to travel from Tel-Aviv to Jeru...               0   \n",
      "...                                                  ...             ...   \n",
      "57472  [\"Here is how that mnemonic represents the dig...               1   \n",
      "57473  [\"Sure! Here's an implementation of a naive Ba...               1   \n",
      "57474  [\"It depends on the context. Weapons can be us...               1   \n",
      "57475  [\"As an AI language model, I do not promote or...               0   \n",
      "57476  [\"If three kids eat three apples in three days...               1   \n",
      "\n",
      "       winner_model_b  winner_tie  \n",
      "0                   0           0  \n",
      "1                   1           0  \n",
      "2                   0           1  \n",
      "3                   0           0  \n",
      "4                   1           0  \n",
      "...               ...         ...  \n",
      "57472               0           0  \n",
      "57473               0           0  \n",
      "57474               0           0  \n",
      "57475               1           0  \n",
      "57476               0           0  \n",
      "\n",
      "[57477 rows x 9 columns]\n"
     ]
    }
   ],
   "source": [
    "train_file_path='/kaggle/input/llm-classification-finetuning/train.csv'\n",
    "train_df=pd.read_csv(train_file_path)\n",
    "train_df=pd.DataFrame(train_df)\n",
    "print(train_df)"
   ]
  },
  {
   "cell_type": "code",
   "execution_count": 3,
   "id": "645d068d",
   "metadata": {
    "execution": {
     "iopub.execute_input": "2025-06-28T01:24:25.912842Z",
     "iopub.status.busy": "2025-06-28T01:24:25.912533Z",
     "iopub.status.idle": "2025-06-28T01:24:25.947882Z",
     "shell.execute_reply": "2025-06-28T01:24:25.947006Z"
    },
    "papermill": {
     "duration": 0.043338,
     "end_time": "2025-06-28T01:24:25.949575",
     "exception": false,
     "start_time": "2025-06-28T01:24:25.906237",
     "status": "completed"
    },
    "tags": []
   },
   "outputs": [
    {
     "data": {
      "text/html": [
       "<div>\n",
       "<style scoped>\n",
       "    .dataframe tbody tr th:only-of-type {\n",
       "        vertical-align: middle;\n",
       "    }\n",
       "\n",
       "    .dataframe tbody tr th {\n",
       "        vertical-align: top;\n",
       "    }\n",
       "\n",
       "    .dataframe thead th {\n",
       "        text-align: right;\n",
       "    }\n",
       "</style>\n",
       "<table border=\"1\" class=\"dataframe\">\n",
       "  <thead>\n",
       "    <tr style=\"text-align: right;\">\n",
       "      <th></th>\n",
       "      <th>id</th>\n",
       "      <th>winner_model_a</th>\n",
       "      <th>winner_model_b</th>\n",
       "      <th>winner_tie</th>\n",
       "    </tr>\n",
       "  </thead>\n",
       "  <tbody>\n",
       "    <tr>\n",
       "      <th>count</th>\n",
       "      <td>5.747700e+04</td>\n",
       "      <td>57477.000000</td>\n",
       "      <td>57477.000000</td>\n",
       "      <td>57477.000000</td>\n",
       "    </tr>\n",
       "    <tr>\n",
       "      <th>mean</th>\n",
       "      <td>2.142564e+09</td>\n",
       "      <td>0.349079</td>\n",
       "      <td>0.341911</td>\n",
       "      <td>0.309011</td>\n",
       "    </tr>\n",
       "    <tr>\n",
       "      <th>std</th>\n",
       "      <td>1.238327e+09</td>\n",
       "      <td>0.476683</td>\n",
       "      <td>0.474354</td>\n",
       "      <td>0.462090</td>\n",
       "    </tr>\n",
       "    <tr>\n",
       "      <th>min</th>\n",
       "      <td>3.019200e+04</td>\n",
       "      <td>0.000000</td>\n",
       "      <td>0.000000</td>\n",
       "      <td>0.000000</td>\n",
       "    </tr>\n",
       "    <tr>\n",
       "      <th>25%</th>\n",
       "      <td>1.071821e+09</td>\n",
       "      <td>0.000000</td>\n",
       "      <td>0.000000</td>\n",
       "      <td>0.000000</td>\n",
       "    </tr>\n",
       "    <tr>\n",
       "      <th>50%</th>\n",
       "      <td>2.133658e+09</td>\n",
       "      <td>0.000000</td>\n",
       "      <td>0.000000</td>\n",
       "      <td>0.000000</td>\n",
       "    </tr>\n",
       "    <tr>\n",
       "      <th>75%</th>\n",
       "      <td>3.211645e+09</td>\n",
       "      <td>1.000000</td>\n",
       "      <td>1.000000</td>\n",
       "      <td>1.000000</td>\n",
       "    </tr>\n",
       "    <tr>\n",
       "      <th>max</th>\n",
       "      <td>4.294947e+09</td>\n",
       "      <td>1.000000</td>\n",
       "      <td>1.000000</td>\n",
       "      <td>1.000000</td>\n",
       "    </tr>\n",
       "  </tbody>\n",
       "</table>\n",
       "</div>"
      ],
      "text/plain": [
       "                 id  winner_model_a  winner_model_b    winner_tie\n",
       "count  5.747700e+04    57477.000000    57477.000000  57477.000000\n",
       "mean   2.142564e+09        0.349079        0.341911      0.309011\n",
       "std    1.238327e+09        0.476683        0.474354      0.462090\n",
       "min    3.019200e+04        0.000000        0.000000      0.000000\n",
       "25%    1.071821e+09        0.000000        0.000000      0.000000\n",
       "50%    2.133658e+09        0.000000        0.000000      0.000000\n",
       "75%    3.211645e+09        1.000000        1.000000      1.000000\n",
       "max    4.294947e+09        1.000000        1.000000      1.000000"
      ]
     },
     "execution_count": 3,
     "metadata": {},
     "output_type": "execute_result"
    }
   ],
   "source": [
    "train_df.describe()"
   ]
  },
  {
   "cell_type": "markdown",
   "id": "24a731be",
   "metadata": {
    "papermill": {
     "duration": 0.004974,
     "end_time": "2025-06-28T01:24:25.960096",
     "exception": false,
     "start_time": "2025-06-28T01:24:25.955122",
     "status": "completed"
    },
    "tags": []
   },
   "source": [
    "# Understanding the Data"
   ]
  },
  {
   "cell_type": "markdown",
   "id": "b218abe5",
   "metadata": {
    "papermill": {
     "duration": 0.004873,
     "end_time": "2025-06-28T01:24:25.970235",
     "exception": false,
     "start_time": "2025-06-28T01:24:25.965362",
     "status": "completed"
    },
    "tags": []
   },
   "source": [
    "- Data Size: Medium Size\n",
    "    - 55K rows in the training data\n",
    "    - roughly 25k rows in the test set.\n",
    "    ==> 10k-1M rows (medium)\n",
    "    ==> features space: 5 features (<100 = small, low dimention)\n",
    "- Data type:Semi-structured\n",
    "    - structured: winner model, model type(a/b)\n",
    "    - unstructured: prompt/response\n",
    "==> logistic regression as baseline"
   ]
  },
  {
   "cell_type": "markdown",
   "id": "fc4c63a2",
   "metadata": {
    "papermill": {
     "duration": 0.005606,
     "end_time": "2025-06-28T01:24:25.980986",
     "exception": false,
     "start_time": "2025-06-28T01:24:25.975380",
     "status": "completed"
    },
    "tags": []
   },
   "source": [
    "# Baseline"
   ]
  },
  {
   "cell_type": "code",
   "execution_count": 4,
   "id": "8f3c15e1",
   "metadata": {
    "execution": {
     "iopub.execute_input": "2025-06-28T01:24:25.992746Z",
     "iopub.status.busy": "2025-06-28T01:24:25.992202Z",
     "iopub.status.idle": "2025-06-28T01:24:27.336846Z",
     "shell.execute_reply": "2025-06-28T01:24:27.335964Z"
    },
    "papermill": {
     "duration": 1.352248,
     "end_time": "2025-06-28T01:24:27.338367",
     "exception": false,
     "start_time": "2025-06-28T01:24:25.986119",
     "status": "completed"
    },
    "tags": []
   },
   "outputs": [],
   "source": [
    "from sklearn.feature_extraction.text import TfidfVectorizer\n",
    "from sklearn.linear_model import LogisticRegression"
   ]
  },
  {
   "cell_type": "code",
   "execution_count": 5,
   "id": "8e7026bc",
   "metadata": {
    "execution": {
     "iopub.execute_input": "2025-06-28T01:24:27.350600Z",
     "iopub.status.busy": "2025-06-28T01:24:27.350135Z",
     "iopub.status.idle": "2025-06-28T01:24:27.362874Z",
     "shell.execute_reply": "2025-06-28T01:24:27.362010Z"
    },
    "papermill": {
     "duration": 0.020173,
     "end_time": "2025-06-28T01:24:27.364174",
     "exception": false,
     "start_time": "2025-06-28T01:24:27.344001",
     "status": "completed"
    },
    "tags": []
   },
   "outputs": [
    {
     "data": {
      "text/html": [
       "<div>\n",
       "<style scoped>\n",
       "    .dataframe tbody tr th:only-of-type {\n",
       "        vertical-align: middle;\n",
       "    }\n",
       "\n",
       "    .dataframe tbody tr th {\n",
       "        vertical-align: top;\n",
       "    }\n",
       "\n",
       "    .dataframe thead th {\n",
       "        text-align: right;\n",
       "    }\n",
       "</style>\n",
       "<table border=\"1\" class=\"dataframe\">\n",
       "  <thead>\n",
       "    <tr style=\"text-align: right;\">\n",
       "      <th></th>\n",
       "      <th>id</th>\n",
       "      <th>model_a</th>\n",
       "      <th>model_b</th>\n",
       "      <th>prompt</th>\n",
       "      <th>response_a</th>\n",
       "      <th>response_b</th>\n",
       "      <th>winner_model_a</th>\n",
       "      <th>winner_model_b</th>\n",
       "      <th>winner_tie</th>\n",
       "    </tr>\n",
       "  </thead>\n",
       "  <tbody>\n",
       "    <tr>\n",
       "      <th>0</th>\n",
       "      <td>30192</td>\n",
       "      <td>gpt-4-1106-preview</td>\n",
       "      <td>gpt-4-0613</td>\n",
       "      <td>[\"Is it morally right to try to have a certain...</td>\n",
       "      <td>[\"The question of whether it is morally right ...</td>\n",
       "      <td>[\"As an AI, I don't have personal beliefs or o...</td>\n",
       "      <td>1</td>\n",
       "      <td>0</td>\n",
       "      <td>0</td>\n",
       "    </tr>\n",
       "    <tr>\n",
       "      <th>1</th>\n",
       "      <td>53567</td>\n",
       "      <td>koala-13b</td>\n",
       "      <td>gpt-4-0613</td>\n",
       "      <td>[\"What is the difference between marriage lice...</td>\n",
       "      <td>[\"A marriage license is a legal document that ...</td>\n",
       "      <td>[\"A marriage license and a marriage certificat...</td>\n",
       "      <td>0</td>\n",
       "      <td>1</td>\n",
       "      <td>0</td>\n",
       "    </tr>\n",
       "    <tr>\n",
       "      <th>2</th>\n",
       "      <td>65089</td>\n",
       "      <td>gpt-3.5-turbo-0613</td>\n",
       "      <td>mistral-medium</td>\n",
       "      <td>[\"explain function calling. how would you call...</td>\n",
       "      <td>[\"Function calling is the process of invoking ...</td>\n",
       "      <td>[\"Function calling is the process of invoking ...</td>\n",
       "      <td>0</td>\n",
       "      <td>0</td>\n",
       "      <td>1</td>\n",
       "    </tr>\n",
       "    <tr>\n",
       "      <th>3</th>\n",
       "      <td>96401</td>\n",
       "      <td>llama-2-13b-chat</td>\n",
       "      <td>mistral-7b-instruct</td>\n",
       "      <td>[\"How can I create a test set for a very rare ...</td>\n",
       "      <td>[\"Creating a test set for a very rare category...</td>\n",
       "      <td>[\"When building a classifier for a very rare c...</td>\n",
       "      <td>1</td>\n",
       "      <td>0</td>\n",
       "      <td>0</td>\n",
       "    </tr>\n",
       "    <tr>\n",
       "      <th>4</th>\n",
       "      <td>198779</td>\n",
       "      <td>koala-13b</td>\n",
       "      <td>gpt-3.5-turbo-0314</td>\n",
       "      <td>[\"What is the best way to travel from Tel-Aviv...</td>\n",
       "      <td>[\"The best way to travel from Tel Aviv to Jeru...</td>\n",
       "      <td>[\"The best way to travel from Tel-Aviv to Jeru...</td>\n",
       "      <td>0</td>\n",
       "      <td>1</td>\n",
       "      <td>0</td>\n",
       "    </tr>\n",
       "    <tr>\n",
       "      <th>...</th>\n",
       "      <td>...</td>\n",
       "      <td>...</td>\n",
       "      <td>...</td>\n",
       "      <td>...</td>\n",
       "      <td>...</td>\n",
       "      <td>...</td>\n",
       "      <td>...</td>\n",
       "      <td>...</td>\n",
       "      <td>...</td>\n",
       "    </tr>\n",
       "    <tr>\n",
       "      <th>57472</th>\n",
       "      <td>4294656694</td>\n",
       "      <td>gpt-4-0613</td>\n",
       "      <td>claude-1</td>\n",
       "      <td>[\"A simple mnemonic for \\u03c0:\\n\\\"How I wish ...</td>\n",
       "      <td>[\"Sure, let's break it down:\\n\\n1. \\\"How\\\" has...</td>\n",
       "      <td>[\"Here is how that mnemonic represents the dig...</td>\n",
       "      <td>1</td>\n",
       "      <td>0</td>\n",
       "      <td>0</td>\n",
       "    </tr>\n",
       "    <tr>\n",
       "      <th>57473</th>\n",
       "      <td>4294692063</td>\n",
       "      <td>claude-2.0</td>\n",
       "      <td>llama-2-13b-chat</td>\n",
       "      <td>[\"In python, implement a naive Bayes with gaus...</td>\n",
       "      <td>[\"Here is an implementation of a naive Bayes c...</td>\n",
       "      <td>[\"Sure! Here's an implementation of a naive Ba...</td>\n",
       "      <td>1</td>\n",
       "      <td>0</td>\n",
       "      <td>0</td>\n",
       "    </tr>\n",
       "    <tr>\n",
       "      <th>57474</th>\n",
       "      <td>4294710549</td>\n",
       "      <td>claude-1</td>\n",
       "      <td>alpaca-13b</td>\n",
       "      <td>[\"is it unethical to work on building weapons?...</td>\n",
       "      <td>[\"Working on weapons technology raises some et...</td>\n",
       "      <td>[\"It depends on the context. Weapons can be us...</td>\n",
       "      <td>1</td>\n",
       "      <td>0</td>\n",
       "      <td>0</td>\n",
       "    </tr>\n",
       "    <tr>\n",
       "      <th>57475</th>\n",
       "      <td>4294899228</td>\n",
       "      <td>palm-2</td>\n",
       "      <td>tulu-2-dpo-70b</td>\n",
       "      <td>[\"If a bait contains 0,0025% bromadiolon then ...</td>\n",
       "      <td>[\"Bromadiolone is a rodenticide which is most ...</td>\n",
       "      <td>[\"As an AI language model, I do not promote or...</td>\n",
       "      <td>0</td>\n",
       "      <td>1</td>\n",
       "      <td>0</td>\n",
       "    </tr>\n",
       "    <tr>\n",
       "      <th>57476</th>\n",
       "      <td>4294947231</td>\n",
       "      <td>gemini-pro-dev-api</td>\n",
       "      <td>gpt-4-1106-preview</td>\n",
       "      <td>[\"three kids eat three apples in three days, h...</td>\n",
       "      <td>[\"27 apples\"]</td>\n",
       "      <td>[\"If three kids eat three apples in three days...</td>\n",
       "      <td>1</td>\n",
       "      <td>0</td>\n",
       "      <td>0</td>\n",
       "    </tr>\n",
       "  </tbody>\n",
       "</table>\n",
       "<p>57477 rows × 9 columns</p>\n",
       "</div>"
      ],
      "text/plain": [
       "               id             model_a              model_b  \\\n",
       "0           30192  gpt-4-1106-preview           gpt-4-0613   \n",
       "1           53567           koala-13b           gpt-4-0613   \n",
       "2           65089  gpt-3.5-turbo-0613       mistral-medium   \n",
       "3           96401    llama-2-13b-chat  mistral-7b-instruct   \n",
       "4          198779           koala-13b   gpt-3.5-turbo-0314   \n",
       "...           ...                 ...                  ...   \n",
       "57472  4294656694          gpt-4-0613             claude-1   \n",
       "57473  4294692063          claude-2.0     llama-2-13b-chat   \n",
       "57474  4294710549            claude-1           alpaca-13b   \n",
       "57475  4294899228              palm-2       tulu-2-dpo-70b   \n",
       "57476  4294947231  gemini-pro-dev-api   gpt-4-1106-preview   \n",
       "\n",
       "                                                  prompt  \\\n",
       "0      [\"Is it morally right to try to have a certain...   \n",
       "1      [\"What is the difference between marriage lice...   \n",
       "2      [\"explain function calling. how would you call...   \n",
       "3      [\"How can I create a test set for a very rare ...   \n",
       "4      [\"What is the best way to travel from Tel-Aviv...   \n",
       "...                                                  ...   \n",
       "57472  [\"A simple mnemonic for \\u03c0:\\n\\\"How I wish ...   \n",
       "57473  [\"In python, implement a naive Bayes with gaus...   \n",
       "57474  [\"is it unethical to work on building weapons?...   \n",
       "57475  [\"If a bait contains 0,0025% bromadiolon then ...   \n",
       "57476  [\"three kids eat three apples in three days, h...   \n",
       "\n",
       "                                              response_a  \\\n",
       "0      [\"The question of whether it is morally right ...   \n",
       "1      [\"A marriage license is a legal document that ...   \n",
       "2      [\"Function calling is the process of invoking ...   \n",
       "3      [\"Creating a test set for a very rare category...   \n",
       "4      [\"The best way to travel from Tel Aviv to Jeru...   \n",
       "...                                                  ...   \n",
       "57472  [\"Sure, let's break it down:\\n\\n1. \\\"How\\\" has...   \n",
       "57473  [\"Here is an implementation of a naive Bayes c...   \n",
       "57474  [\"Working on weapons technology raises some et...   \n",
       "57475  [\"Bromadiolone is a rodenticide which is most ...   \n",
       "57476                                      [\"27 apples\"]   \n",
       "\n",
       "                                              response_b  winner_model_a  \\\n",
       "0      [\"As an AI, I don't have personal beliefs or o...               1   \n",
       "1      [\"A marriage license and a marriage certificat...               0   \n",
       "2      [\"Function calling is the process of invoking ...               0   \n",
       "3      [\"When building a classifier for a very rare c...               1   \n",
       "4      [\"The best way to travel from Tel-Aviv to Jeru...               0   \n",
       "...                                                  ...             ...   \n",
       "57472  [\"Here is how that mnemonic represents the dig...               1   \n",
       "57473  [\"Sure! Here's an implementation of a naive Ba...               1   \n",
       "57474  [\"It depends on the context. Weapons can be us...               1   \n",
       "57475  [\"As an AI language model, I do not promote or...               0   \n",
       "57476  [\"If three kids eat three apples in three days...               1   \n",
       "\n",
       "       winner_model_b  winner_tie  \n",
       "0                   0           0  \n",
       "1                   1           0  \n",
       "2                   0           1  \n",
       "3                   0           0  \n",
       "4                   1           0  \n",
       "...               ...         ...  \n",
       "57472               0           0  \n",
       "57473               0           0  \n",
       "57474               0           0  \n",
       "57475               1           0  \n",
       "57476               0           0  \n",
       "\n",
       "[57477 rows x 9 columns]"
      ]
     },
     "execution_count": 5,
     "metadata": {},
     "output_type": "execute_result"
    }
   ],
   "source": [
    "train_df"
   ]
  },
  {
   "cell_type": "code",
   "execution_count": 6,
   "id": "98cd6aaa",
   "metadata": {
    "execution": {
     "iopub.execute_input": "2025-06-28T01:24:27.377370Z",
     "iopub.status.busy": "2025-06-28T01:24:27.376653Z",
     "iopub.status.idle": "2025-06-28T01:24:27.380608Z",
     "shell.execute_reply": "2025-06-28T01:24:27.379809Z"
    },
    "papermill": {
     "duration": 0.011821,
     "end_time": "2025-06-28T01:24:27.381941",
     "exception": false,
     "start_time": "2025-06-28T01:24:27.370120",
     "status": "completed"
    },
    "tags": []
   },
   "outputs": [],
   "source": [
    "from scipy.sparse import hstack"
   ]
  },
  {
   "cell_type": "code",
   "execution_count": 7,
   "id": "b7a6bf92",
   "metadata": {
    "execution": {
     "iopub.execute_input": "2025-06-28T01:24:27.394587Z",
     "iopub.status.busy": "2025-06-28T01:24:27.394277Z",
     "iopub.status.idle": "2025-06-28T01:25:08.592140Z",
     "shell.execute_reply": "2025-06-28T01:25:08.591303Z"
    },
    "papermill": {
     "duration": 41.206237,
     "end_time": "2025-06-28T01:25:08.593930",
     "exception": false,
     "start_time": "2025-06-28T01:24:27.387693",
     "status": "completed"
    },
    "tags": []
   },
   "outputs": [],
   "source": [
    "#transfer the unstructured data(prompt/response's text)\n",
    "vectorizer = TfidfVectorizer(max_features=1000)\n",
    "vectorizer.fit(pd.concat([train_df['prompt'],train_df['response_a'],train_df['response_b'] ]))\n",
    "\n",
    "prompt_tfidf = vectorizer.fit_transform(train_df['prompt'])\n",
    "responseA_tfidf=vectorizer.fit_transform(train_df['response_a'])\n",
    "responseB_tfidf=vectorizer.fit_transform(train_df['response_b'])\n",
    "\n",
    "X_train=hstack([prompt_tfidf,responseA_tfidf,responseB_tfidf])"
   ]
  },
  {
   "cell_type": "code",
   "execution_count": 8,
   "id": "541fe6c9",
   "metadata": {
    "execution": {
     "iopub.execute_input": "2025-06-28T01:25:08.607227Z",
     "iopub.status.busy": "2025-06-28T01:25:08.606913Z",
     "iopub.status.idle": "2025-06-28T01:25:08.615241Z",
     "shell.execute_reply": "2025-06-28T01:25:08.614376Z"
    },
    "papermill": {
     "duration": 0.016513,
     "end_time": "2025-06-28T01:25:08.616748",
     "exception": false,
     "start_time": "2025-06-28T01:25:08.600235",
     "status": "completed"
    },
    "tags": []
   },
   "outputs": [],
   "source": [
    "#Transfer the y_label data: 0=a, 1=b, 2=tie\n",
    "train_df['label'] = np.select( \n",
    "    [\n",
    "        train_df['winner_model_a'] == 1,\n",
    "        train_df['winner_model_b'] == 1,\n",
    "        train_df['winner_tie'] == 1\n",
    "    ], \n",
    "        [0, 1, 2]\n",
    ")\n",
    "\n",
    "y_train=train_df['label']"
   ]
  },
  {
   "cell_type": "code",
   "execution_count": 9,
   "id": "b64f1150",
   "metadata": {
    "execution": {
     "iopub.execute_input": "2025-06-28T01:25:08.629555Z",
     "iopub.status.busy": "2025-06-28T01:25:08.629213Z",
     "iopub.status.idle": "2025-06-28T01:25:20.479103Z",
     "shell.execute_reply": "2025-06-28T01:25:20.476515Z"
    },
    "papermill": {
     "duration": 11.85781,
     "end_time": "2025-06-28T01:25:20.480520",
     "exception": false,
     "start_time": "2025-06-28T01:25:08.622710",
     "status": "completed"
    },
    "tags": []
   },
   "outputs": [
    {
     "name": "stderr",
     "output_type": "stream",
     "text": [
      "/usr/local/lib/python3.11/dist-packages/sklearn/linear_model/_logistic.py:458: ConvergenceWarning: lbfgs failed to converge (status=1):\n",
      "STOP: TOTAL NO. OF ITERATIONS REACHED LIMIT.\n",
      "\n",
      "Increase the number of iterations (max_iter) or scale the data as shown in:\n",
      "    https://scikit-learn.org/stable/modules/preprocessing.html\n",
      "Please also refer to the documentation for alternative solver options:\n",
      "    https://scikit-learn.org/stable/modules/linear_model.html#logistic-regression\n",
      "  n_iter_i = _check_optimize_result(\n"
     ]
    },
    {
     "data": {
      "text/html": [
       "<style>#sk-container-id-1 {color: black;background-color: white;}#sk-container-id-1 pre{padding: 0;}#sk-container-id-1 div.sk-toggleable {background-color: white;}#sk-container-id-1 label.sk-toggleable__label {cursor: pointer;display: block;width: 100%;margin-bottom: 0;padding: 0.3em;box-sizing: border-box;text-align: center;}#sk-container-id-1 label.sk-toggleable__label-arrow:before {content: \"▸\";float: left;margin-right: 0.25em;color: #696969;}#sk-container-id-1 label.sk-toggleable__label-arrow:hover:before {color: black;}#sk-container-id-1 div.sk-estimator:hover label.sk-toggleable__label-arrow:before {color: black;}#sk-container-id-1 div.sk-toggleable__content {max-height: 0;max-width: 0;overflow: hidden;text-align: left;background-color: #f0f8ff;}#sk-container-id-1 div.sk-toggleable__content pre {margin: 0.2em;color: black;border-radius: 0.25em;background-color: #f0f8ff;}#sk-container-id-1 input.sk-toggleable__control:checked~div.sk-toggleable__content {max-height: 200px;max-width: 100%;overflow: auto;}#sk-container-id-1 input.sk-toggleable__control:checked~label.sk-toggleable__label-arrow:before {content: \"▾\";}#sk-container-id-1 div.sk-estimator input.sk-toggleable__control:checked~label.sk-toggleable__label {background-color: #d4ebff;}#sk-container-id-1 div.sk-label input.sk-toggleable__control:checked~label.sk-toggleable__label {background-color: #d4ebff;}#sk-container-id-1 input.sk-hidden--visually {border: 0;clip: rect(1px 1px 1px 1px);clip: rect(1px, 1px, 1px, 1px);height: 1px;margin: -1px;overflow: hidden;padding: 0;position: absolute;width: 1px;}#sk-container-id-1 div.sk-estimator {font-family: monospace;background-color: #f0f8ff;border: 1px dotted black;border-radius: 0.25em;box-sizing: border-box;margin-bottom: 0.5em;}#sk-container-id-1 div.sk-estimator:hover {background-color: #d4ebff;}#sk-container-id-1 div.sk-parallel-item::after {content: \"\";width: 100%;border-bottom: 1px solid gray;flex-grow: 1;}#sk-container-id-1 div.sk-label:hover label.sk-toggleable__label {background-color: #d4ebff;}#sk-container-id-1 div.sk-serial::before {content: \"\";position: absolute;border-left: 1px solid gray;box-sizing: border-box;top: 0;bottom: 0;left: 50%;z-index: 0;}#sk-container-id-1 div.sk-serial {display: flex;flex-direction: column;align-items: center;background-color: white;padding-right: 0.2em;padding-left: 0.2em;position: relative;}#sk-container-id-1 div.sk-item {position: relative;z-index: 1;}#sk-container-id-1 div.sk-parallel {display: flex;align-items: stretch;justify-content: center;background-color: white;position: relative;}#sk-container-id-1 div.sk-item::before, #sk-container-id-1 div.sk-parallel-item::before {content: \"\";position: absolute;border-left: 1px solid gray;box-sizing: border-box;top: 0;bottom: 0;left: 50%;z-index: -1;}#sk-container-id-1 div.sk-parallel-item {display: flex;flex-direction: column;z-index: 1;position: relative;background-color: white;}#sk-container-id-1 div.sk-parallel-item:first-child::after {align-self: flex-end;width: 50%;}#sk-container-id-1 div.sk-parallel-item:last-child::after {align-self: flex-start;width: 50%;}#sk-container-id-1 div.sk-parallel-item:only-child::after {width: 0;}#sk-container-id-1 div.sk-dashed-wrapped {border: 1px dashed gray;margin: 0 0.4em 0.5em 0.4em;box-sizing: border-box;padding-bottom: 0.4em;background-color: white;}#sk-container-id-1 div.sk-label label {font-family: monospace;font-weight: bold;display: inline-block;line-height: 1.2em;}#sk-container-id-1 div.sk-label-container {text-align: center;}#sk-container-id-1 div.sk-container {/* jupyter's `normalize.less` sets `[hidden] { display: none; }` but bootstrap.min.css set `[hidden] { display: none !important; }` so we also need the `!important` here to be able to override the default hidden behavior on the sphinx rendered scikit-learn.org. See: https://github.com/scikit-learn/scikit-learn/issues/21755 */display: inline-block !important;position: relative;}#sk-container-id-1 div.sk-text-repr-fallback {display: none;}</style><div id=\"sk-container-id-1\" class=\"sk-top-container\"><div class=\"sk-text-repr-fallback\"><pre>LogisticRegression(multi_class=&#x27;multinomial&#x27;)</pre><b>In a Jupyter environment, please rerun this cell to show the HTML representation or trust the notebook. <br />On GitHub, the HTML representation is unable to render, please try loading this page with nbviewer.org.</b></div><div class=\"sk-container\" hidden><div class=\"sk-item\"><div class=\"sk-estimator sk-toggleable\"><input class=\"sk-toggleable__control sk-hidden--visually\" id=\"sk-estimator-id-1\" type=\"checkbox\" checked><label for=\"sk-estimator-id-1\" class=\"sk-toggleable__label sk-toggleable__label-arrow\">LogisticRegression</label><div class=\"sk-toggleable__content\"><pre>LogisticRegression(multi_class=&#x27;multinomial&#x27;)</pre></div></div></div></div></div>"
      ],
      "text/plain": [
       "LogisticRegression(multi_class='multinomial')"
      ]
     },
     "execution_count": 9,
     "metadata": {},
     "output_type": "execute_result"
    }
   ],
   "source": [
    "#Train the multinomial logistic regression model\n",
    "model = LogisticRegression(multi_class='multinomial', solver='lbfgs')\n",
    "model.fit(X_train, y_train)"
   ]
  },
  {
   "cell_type": "code",
   "execution_count": 10,
   "id": "76138a1c",
   "metadata": {
    "execution": {
     "iopub.execute_input": "2025-06-28T01:25:20.494352Z",
     "iopub.status.busy": "2025-06-28T01:25:20.494051Z",
     "iopub.status.idle": "2025-06-28T01:25:20.497834Z",
     "shell.execute_reply": "2025-06-28T01:25:20.497033Z"
    },
    "papermill": {
     "duration": 0.012066,
     "end_time": "2025-06-28T01:25:20.499172",
     "exception": false,
     "start_time": "2025-06-28T01:25:20.487106",
     "status": "completed"
    },
    "tags": []
   },
   "outputs": [],
   "source": [
    "import joblib"
   ]
  },
  {
   "cell_type": "code",
   "execution_count": 11,
   "id": "a2560cf0",
   "metadata": {
    "execution": {
     "iopub.execute_input": "2025-06-28T01:25:20.512760Z",
     "iopub.status.busy": "2025-06-28T01:25:20.512235Z",
     "iopub.status.idle": "2025-06-28T01:25:20.518160Z",
     "shell.execute_reply": "2025-06-28T01:25:20.517438Z"
    },
    "papermill": {
     "duration": 0.014025,
     "end_time": "2025-06-28T01:25:20.519358",
     "exception": false,
     "start_time": "2025-06-28T01:25:20.505333",
     "status": "completed"
    },
    "tags": []
   },
   "outputs": [],
   "source": [
    "joblib.dump(model, 'logistic_regression.pkl')\n",
    "model = joblib.load('logistic_regression.pkl')"
   ]
  },
  {
   "cell_type": "code",
   "execution_count": 12,
   "id": "b7e5bd35",
   "metadata": {
    "execution": {
     "iopub.execute_input": "2025-06-28T01:25:20.532813Z",
     "iopub.status.busy": "2025-06-28T01:25:20.532517Z",
     "iopub.status.idle": "2025-06-28T01:25:20.594270Z",
     "shell.execute_reply": "2025-06-28T01:25:20.593162Z"
    },
    "papermill": {
     "duration": 0.070191,
     "end_time": "2025-06-28T01:25:20.595820",
     "exception": false,
     "start_time": "2025-06-28T01:25:20.525629",
     "status": "completed"
    },
    "tags": []
   },
   "outputs": [
    {
     "name": "stdout",
     "output_type": "stream",
     "text": [
      "[[0.86 0.04 0.1 ]\n",
      " [0.23 0.54 0.23]\n",
      " [0.33 0.42 0.25]\n",
      " ...\n",
      " [0.67 0.13 0.2 ]\n",
      " [0.27 0.36 0.37]\n",
      " [0.19 0.4  0.41]]\n"
     ]
    }
   ],
   "source": [
    "#probability\n",
    "X_train_proba=model.predict_proba(X_train)\n",
    "print(X_train_proba.round(2))"
   ]
  },
  {
   "cell_type": "markdown",
   "id": "bbd45339",
   "metadata": {
    "papermill": {
     "duration": 0.005939,
     "end_time": "2025-06-28T01:25:20.608192",
     "exception": false,
     "start_time": "2025-06-28T01:25:20.602253",
     "status": "completed"
    },
    "tags": []
   },
   "source": [
    "test.csv\n",
    "\n",
    "* id\n",
    "* prompt\n",
    "* response_[a/b]\n"
   ]
  },
  {
   "cell_type": "code",
   "execution_count": 13,
   "id": "5752376d",
   "metadata": {
    "execution": {
     "iopub.execute_input": "2025-06-28T01:25:20.621925Z",
     "iopub.status.busy": "2025-06-28T01:25:20.621621Z",
     "iopub.status.idle": "2025-06-28T01:25:20.661668Z",
     "shell.execute_reply": "2025-06-28T01:25:20.660599Z"
    },
    "papermill": {
     "duration": 0.048824,
     "end_time": "2025-06-28T01:25:20.663327",
     "exception": false,
     "start_time": "2025-06-28T01:25:20.614503",
     "status": "completed"
    },
    "tags": []
   },
   "outputs": [],
   "source": [
    "y_train_pred=model.predict(X_train)"
   ]
  },
  {
   "cell_type": "code",
   "execution_count": 14,
   "id": "303d4715",
   "metadata": {
    "execution": {
     "iopub.execute_input": "2025-06-28T01:25:20.677423Z",
     "iopub.status.busy": "2025-06-28T01:25:20.677100Z",
     "iopub.status.idle": "2025-06-28T01:25:20.690365Z",
     "shell.execute_reply": "2025-06-28T01:25:20.689292Z"
    },
    "papermill": {
     "duration": 0.021788,
     "end_time": "2025-06-28T01:25:20.691785",
     "exception": false,
     "start_time": "2025-06-28T01:25:20.669997",
     "status": "completed"
    },
    "tags": []
   },
   "outputs": [
    {
     "name": "stdout",
     "output_type": "stream",
     "text": [
      "        id                                             prompt  \\\n",
      "0   136060  [\"I have three oranges today, I ate an orange ...   \n",
      "1   211333  [\"You are a mediator in a heated political deb...   \n",
      "2  1233961  [\"How to initialize the classification head wh...   \n",
      "\n",
      "                                          response_a  \\\n",
      "0                    [\"You have two oranges today.\"]   \n",
      "1  [\"Thank you for sharing the details of the sit...   \n",
      "2  [\"When you want to initialize the classificati...   \n",
      "\n",
      "                                          response_b  \n",
      "0  [\"You still have three oranges. Eating an oran...  \n",
      "1  [\"Mr Reddy and Ms Blue both have valid points ...  \n",
      "2  [\"To initialize the classification head when p...  \n"
     ]
    }
   ],
   "source": [
    "#Test data\n",
    "test_file_path='/kaggle/input/llm-classification-finetuning/test.csv'\n",
    "test_df=pd.read_csv(test_file_path)\n",
    "test_df=pd.DataFrame(test_df)\n",
    "print(test_df)"
   ]
  },
  {
   "cell_type": "code",
   "execution_count": 15,
   "id": "f9557fef",
   "metadata": {
    "execution": {
     "iopub.execute_input": "2025-06-28T01:25:20.706091Z",
     "iopub.status.busy": "2025-06-28T01:25:20.705803Z",
     "iopub.status.idle": "2025-06-28T01:25:20.715287Z",
     "shell.execute_reply": "2025-06-28T01:25:20.714468Z"
    },
    "papermill": {
     "duration": 0.018251,
     "end_time": "2025-06-28T01:25:20.716755",
     "exception": false,
     "start_time": "2025-06-28T01:25:20.698504",
     "status": "completed"
    },
    "tags": []
   },
   "outputs": [],
   "source": [
    "test_prompt_tfidf = vectorizer.transform(test_df['prompt'])\n",
    "test_responseA_tfidf = vectorizer.transform(test_df['response_a'])\n",
    "test_responseB_tfidf = vectorizer.transform(test_df['response_b'])\n",
    "\n",
    "X_test=hstack([test_prompt_tfidf,test_responseA_tfidf,test_responseB_tfidf])"
   ]
  },
  {
   "cell_type": "code",
   "execution_count": 16,
   "id": "83105fcc",
   "metadata": {
    "execution": {
     "iopub.execute_input": "2025-06-28T01:25:20.730833Z",
     "iopub.status.busy": "2025-06-28T01:25:20.730539Z",
     "iopub.status.idle": "2025-06-28T01:25:20.736214Z",
     "shell.execute_reply": "2025-06-28T01:25:20.735076Z"
    },
    "papermill": {
     "duration": 0.014388,
     "end_time": "2025-06-28T01:25:20.737680",
     "exception": false,
     "start_time": "2025-06-28T01:25:20.723292",
     "status": "completed"
    },
    "tags": []
   },
   "outputs": [
    {
     "name": "stdout",
     "output_type": "stream",
     "text": [
      "[[0.2  0.49 0.31]\n",
      " [0.89 0.03 0.08]\n",
      " [0.22 0.53 0.26]]\n"
     ]
    }
   ],
   "source": [
    "#probability\n",
    "print(model.predict_proba(X_test).round(2))"
   ]
  },
  {
   "cell_type": "code",
   "execution_count": 17,
   "id": "3970b4b5",
   "metadata": {
    "execution": {
     "iopub.execute_input": "2025-06-28T01:25:20.751818Z",
     "iopub.status.busy": "2025-06-28T01:25:20.751516Z",
     "iopub.status.idle": "2025-06-28T01:25:20.756175Z",
     "shell.execute_reply": "2025-06-28T01:25:20.755433Z"
    },
    "papermill": {
     "duration": 0.01316,
     "end_time": "2025-06-28T01:25:20.757495",
     "exception": false,
     "start_time": "2025-06-28T01:25:20.744335",
     "status": "completed"
    },
    "tags": []
   },
   "outputs": [],
   "source": [
    "y_test_pred=model.predict(X_test)"
   ]
  },
  {
   "cell_type": "markdown",
   "id": "08c9743c",
   "metadata": {
    "papermill": {
     "duration": 0.006087,
     "end_time": "2025-06-28T01:25:20.770158",
     "exception": false,
     "start_time": "2025-06-28T01:25:20.764071",
     "status": "completed"
    },
    "tags": []
   },
   "source": [
    "# Evaluate Performance Metrics:\n",
    "\n",
    "Define the evaluation metrics that are most important for your problem. Accuracy, precision, recall, F1-score, or area under the ROC curve are commonly used metrics. Different models may perform better or worse depending on the chosen metric. Additionally, consider if class imbalance or other specific challenges in your dataset require customized metrics."
   ]
  },
  {
   "cell_type": "code",
   "execution_count": 18,
   "id": "a1f3025d",
   "metadata": {
    "execution": {
     "iopub.execute_input": "2025-06-28T01:25:20.784626Z",
     "iopub.status.busy": "2025-06-28T01:25:20.783826Z",
     "iopub.status.idle": "2025-06-28T01:25:20.788161Z",
     "shell.execute_reply": "2025-06-28T01:25:20.787348Z"
    },
    "papermill": {
     "duration": 0.012832,
     "end_time": "2025-06-28T01:25:20.789493",
     "exception": false,
     "start_time": "2025-06-28T01:25:20.776661",
     "status": "completed"
    },
    "tags": []
   },
   "outputs": [],
   "source": [
    "from sklearn.metrics import log_loss, accuracy_score, confusion_matrix, classification_report"
   ]
  },
  {
   "cell_type": "code",
   "execution_count": 19,
   "id": "5412086d",
   "metadata": {
    "execution": {
     "iopub.execute_input": "2025-06-28T01:25:20.805305Z",
     "iopub.status.busy": "2025-06-28T01:25:20.804751Z",
     "iopub.status.idle": "2025-06-28T01:25:20.914971Z",
     "shell.execute_reply": "2025-06-28T01:25:20.914019Z"
    },
    "papermill": {
     "duration": 0.119178,
     "end_time": "2025-06-28T01:25:20.916479",
     "exception": false,
     "start_time": "2025-06-28T01:25:20.797301",
     "status": "completed"
    },
    "tags": []
   },
   "outputs": [
    {
     "name": "stdout",
     "output_type": "stream",
     "text": [
      "Logloss: 0.9845\n",
      "Accuracy: 0.5155\n",
      "Classification Report:\n",
      "              precision    recall  f1-score   support\n",
      "\n",
      "           0     0.5206    0.5704    0.5444     20064\n",
      "           1     0.5161    0.5506    0.5328     19652\n",
      "           2     0.5071    0.4148    0.4563     17761\n",
      "\n",
      "    accuracy                         0.5155     57477\n",
      "   macro avg     0.5146    0.5119    0.5112     57477\n",
      "weighted avg     0.5149    0.5155    0.5132     57477\n",
      "\n"
     ]
    }
   ],
   "source": [
    "# logloss: The less is better\n",
    "logloss_logistic = log_loss(y_train, X_train_proba)\n",
    "print(f\"Logloss: {logloss_logistic:.4f}\")\n",
    "\n",
    "# accuracy\n",
    "acc_logistic  = accuracy_score(y_train, y_train_pred)\n",
    "print(f\"Accuracy: {acc_logistic:.4f}\")\n",
    "\n",
    "# precision / recall / f1-score:\n",
    "print(\"Classification Report:\")\n",
    "print(classification_report(y_train, y_train_pred, digits=4))\n"
   ]
  },
  {
   "cell_type": "code",
   "execution_count": 20,
   "id": "ac8afade",
   "metadata": {
    "execution": {
     "iopub.execute_input": "2025-06-28T01:25:20.931416Z",
     "iopub.status.busy": "2025-06-28T01:25:20.931070Z",
     "iopub.status.idle": "2025-06-28T01:25:20.935262Z",
     "shell.execute_reply": "2025-06-28T01:25:20.934410Z"
    },
    "papermill": {
     "duration": 0.013108,
     "end_time": "2025-06-28T01:25:20.936698",
     "exception": false,
     "start_time": "2025-06-28T01:25:20.923590",
     "status": "completed"
    },
    "tags": []
   },
   "outputs": [],
   "source": [
    "from collections import defaultdict"
   ]
  },
  {
   "cell_type": "code",
   "execution_count": 21,
   "id": "bde6560e",
   "metadata": {
    "execution": {
     "iopub.execute_input": "2025-06-28T01:25:20.951683Z",
     "iopub.status.busy": "2025-06-28T01:25:20.951074Z",
     "iopub.status.idle": "2025-06-28T01:25:20.960902Z",
     "shell.execute_reply": "2025-06-28T01:25:20.960058Z"
    },
    "papermill": {
     "duration": 0.018535,
     "end_time": "2025-06-28T01:25:20.962245",
     "exception": false,
     "start_time": "2025-06-28T01:25:20.943710",
     "status": "completed"
    },
    "tags": []
   },
   "outputs": [
    {
     "data": {
      "text/html": [
       "<div>\n",
       "<style scoped>\n",
       "    .dataframe tbody tr th:only-of-type {\n",
       "        vertical-align: middle;\n",
       "    }\n",
       "\n",
       "    .dataframe tbody tr th {\n",
       "        vertical-align: top;\n",
       "    }\n",
       "\n",
       "    .dataframe thead th {\n",
       "        text-align: right;\n",
       "    }\n",
       "</style>\n",
       "<table border=\"1\" class=\"dataframe\">\n",
       "  <thead>\n",
       "    <tr style=\"text-align: right;\">\n",
       "      <th></th>\n",
       "      <th>logistic regression</th>\n",
       "    </tr>\n",
       "  </thead>\n",
       "  <tbody>\n",
       "    <tr>\n",
       "      <th>logloss</th>\n",
       "      <td>0.984516</td>\n",
       "    </tr>\n",
       "    <tr>\n",
       "      <th>accuracy</th>\n",
       "      <td>0.515545</td>\n",
       "    </tr>\n",
       "  </tbody>\n",
       "</table>\n",
       "</div>"
      ],
      "text/plain": [
       "          logistic regression\n",
       "logloss              0.984516\n",
       "accuracy             0.515545"
      ]
     },
     "execution_count": 21,
     "metadata": {},
     "output_type": "execute_result"
    }
   ],
   "source": [
    "evaluated_model = defaultdict(dict)\n",
    "evaluated_model['logistic regression']['logloss'] = logloss_logistic \n",
    "evaluated_model['logistic regression']['accuracy'] = acc_logistic \n",
    "\n",
    "evaluated_table=pd.DataFrame(evaluated_model)\n",
    "evaluated_table"
   ]
  },
  {
   "cell_type": "code",
   "execution_count": 22,
   "id": "8af1d8c5",
   "metadata": {
    "execution": {
     "iopub.execute_input": "2025-06-28T01:25:20.978184Z",
     "iopub.status.busy": "2025-06-28T01:25:20.977511Z",
     "iopub.status.idle": "2025-06-28T01:25:21.454962Z",
     "shell.execute_reply": "2025-06-28T01:25:21.453991Z"
    },
    "papermill": {
     "duration": 0.487045,
     "end_time": "2025-06-28T01:25:21.456694",
     "exception": false,
     "start_time": "2025-06-28T01:25:20.969649",
     "status": "completed"
    },
    "tags": []
   },
   "outputs": [],
   "source": [
    "import matplotlib.pyplot as plt\n",
    "import seaborn as sns\n",
    "from sklearn.metrics import confusion_matrix"
   ]
  },
  {
   "cell_type": "code",
   "execution_count": 23,
   "id": "934721f5",
   "metadata": {
    "execution": {
     "iopub.execute_input": "2025-06-28T01:25:21.472223Z",
     "iopub.status.busy": "2025-06-28T01:25:21.471805Z",
     "iopub.status.idle": "2025-06-28T01:25:21.759766Z",
     "shell.execute_reply": "2025-06-28T01:25:21.758906Z"
    },
    "papermill": {
     "duration": 0.297213,
     "end_time": "2025-06-28T01:25:21.761166",
     "exception": false,
     "start_time": "2025-06-28T01:25:21.463953",
     "status": "completed"
    },
    "tags": []
   },
   "outputs": [
    {
     "name": "stdout",
     "output_type": "stream",
     "text": [
      "Confusion Matrix:\n",
      "[[11445  5029  3590]\n",
      " [ 5261 10820  3571]\n",
      " [ 5280  5114  7367]]\n"
     ]
    },
    {
     "data": {
      "image/png": "[encoded data removed]",
      "text/plain": [
       "<Figure size 600x500 with 2 Axes>"
      ]
     },
     "metadata": {},
     "output_type": "display_data"
    }
   ],
   "source": [
    "cm_logistic = confusion_matrix(y_train, y_train_pred)\n",
    "\n",
    "print(\"Confusion Matrix:\")\n",
    "print(cm_logistic )\n",
    "\n",
    "labels = ['model_a', 'model_b', 'tie']\n",
    "plt.figure(figsize=(6, 5))\n",
    "sns.heatmap(cm_logistic , annot=True, fmt='d', cmap='Blues', xticklabels=labels, yticklabels=labels)\n",
    "plt.xlabel('Predicted')\n",
    "plt.ylabel('True')\n",
    "plt.title('Confusion Matrix Heatmap')\n",
    "plt.show()"
   ]
  },
  {
   "cell_type": "code",
   "execution_count": 24,
   "id": "635f1285",
   "metadata": {
    "execution": {
     "iopub.execute_input": "2025-06-28T01:25:21.777821Z",
     "iopub.status.busy": "2025-06-28T01:25:21.777518Z",
     "iopub.status.idle": "2025-06-28T01:25:22.074162Z",
     "shell.execute_reply": "2025-06-28T01:25:22.073205Z"
    },
    "papermill": {
     "duration": 0.306867,
     "end_time": "2025-06-28T01:25:22.075963",
     "exception": false,
     "start_time": "2025-06-28T01:25:21.769096",
     "status": "completed"
    },
    "tags": []
   },
   "outputs": [
    {
     "data": {
      "image/png": "[encoded data removed]",
      "text/plain": [
       "<Figure size 640x480 with 1 Axes>"
      ]
     },
     "metadata": {},
     "output_type": "display_data"
    }
   ],
   "source": [
    "from sklearn.metrics import roc_curve, auc\n",
    "\n",
    "n_classes = 3 #len(np.unique(y_train))\n",
    "for i in range(n_classes):\n",
    "    fpr, tpr, _ = roc_curve((y_train == i).astype(int), X_train_proba[:, i])\n",
    "    roc_auc = auc(fpr, tpr)\n",
    "    plt.plot(fpr, tpr, label=f\"Class {i} (AUC = {roc_auc:.2f})\")\n",
    "\n",
    "plt.plot([0, 1], [0, 1], 'k--')\n",
    "plt.xlabel(\"False Positive Rate\")\n",
    "plt.ylabel(\"True Positive Rate\")\n",
    "plt.title(\"ROC Curve (One-vs-Rest)\")\n",
    "plt.legend()\n",
    "plt.show()\n"
   ]
  },
  {
   "cell_type": "markdown",
   "id": "d29d37ae",
   "metadata": {
    "papermill": {
     "duration": 0.008259,
     "end_time": "2025-06-28T01:25:22.093225",
     "exception": false,
     "start_time": "2025-06-28T01:25:22.084966",
     "status": "completed"
    },
    "tags": []
   },
   "source": [
    "# Advanced Model"
   ]
  },
  {
   "cell_type": "markdown",
   "id": "bc667150",
   "metadata": {
    "papermill": {
     "duration": 0.008156,
     "end_time": "2025-06-28T01:25:22.109913",
     "exception": false,
     "start_time": "2025-06-28T01:25:22.101757",
     "status": "completed"
    },
    "tags": []
   },
   "source": [
    "Let's try the Gradient Boost Tree (XGBoost)"
   ]
  },
  {
   "cell_type": "code",
   "execution_count": 25,
   "id": "b1d26935",
   "metadata": {
    "execution": {
     "iopub.execute_input": "2025-06-28T01:25:22.188109Z",
     "iopub.status.busy": "2025-06-28T01:25:22.187294Z",
     "iopub.status.idle": "2025-06-28T01:25:22.459210Z",
     "shell.execute_reply": "2025-06-28T01:25:22.458437Z"
    },
    "papermill": {
     "duration": 0.283192,
     "end_time": "2025-06-28T01:25:22.460770",
     "exception": false,
     "start_time": "2025-06-28T01:25:22.177578",
     "status": "completed"
    },
    "tags": []
   },
   "outputs": [],
   "source": [
    "from xgboost import XGBClassifier"
   ]
  },
  {
   "cell_type": "code",
   "execution_count": 26,
   "id": "d967cc7b",
   "metadata": {
    "execution": {
     "iopub.execute_input": "2025-06-28T01:25:22.479316Z",
     "iopub.status.busy": "2025-06-28T01:25:22.479026Z",
     "iopub.status.idle": "2025-06-28T01:28:06.349229Z",
     "shell.execute_reply": "2025-06-28T01:28:06.348542Z"
    },
    "papermill": {
     "duration": 163.881631,
     "end_time": "2025-06-28T01:28:06.351255",
     "exception": false,
     "start_time": "2025-06-28T01:25:22.469624",
     "status": "completed"
    },
    "tags": []
   },
   "outputs": [],
   "source": [
    "model = XGBClassifier(\n",
    "    objective='multi:softprob',\n",
    "    num_class=3 ,#len(np.unique(y_train))\n",
    "    eval_metric='mlogloss'\n",
    ")\n",
    "\n",
    "model.fit(X_train, y_train)\n",
    "y_train_proba = model.predict_proba(X_train)\n",
    "y_train_pred = model.predict(X_train)"
   ]
  },
  {
   "cell_type": "code",
   "execution_count": 27,
   "id": "ff43d82b",
   "metadata": {
    "execution": {
     "iopub.execute_input": "2025-06-28T01:28:06.370893Z",
     "iopub.status.busy": "2025-06-28T01:28:06.370556Z",
     "iopub.status.idle": "2025-06-28T01:28:06.388729Z",
     "shell.execute_reply": "2025-06-28T01:28:06.388069Z"
    },
    "papermill": {
     "duration": 0.029687,
     "end_time": "2025-06-28T01:28:06.390548",
     "exception": false,
     "start_time": "2025-06-28T01:28:06.360861",
     "status": "completed"
    },
    "tags": []
   },
   "outputs": [],
   "source": [
    "joblib.dump(model, 'xgboost.pkl')\n",
    "model = joblib.load('xgboost.pkl')"
   ]
  },
  {
   "cell_type": "code",
   "execution_count": 28,
   "id": "50eda6ac",
   "metadata": {
    "execution": {
     "iopub.execute_input": "2025-06-28T01:28:06.409983Z",
     "iopub.status.busy": "2025-06-28T01:28:06.409591Z",
     "iopub.status.idle": "2025-06-28T01:28:07.010897Z",
     "shell.execute_reply": "2025-06-28T01:28:07.009958Z"
    },
    "papermill": {
     "duration": 0.612369,
     "end_time": "2025-06-28T01:28:07.012115",
     "exception": false,
     "start_time": "2025-06-28T01:28:06.399746",
     "status": "completed"
    },
    "tags": []
   },
   "outputs": [
    {
     "name": "stdout",
     "output_type": "stream",
     "text": [
      "Logloss: 0.8156\n",
      "Accuracy: 0.7216\n",
      "Classification Report:\n",
      "              precision    recall  f1-score   support\n",
      "\n",
      "           0     0.7094    0.7720    0.7394     20064\n",
      "           1     0.7224    0.7483    0.7351     19652\n",
      "           2     0.7378    0.6350    0.6825     17761\n",
      "\n",
      "    accuracy                         0.7216     57477\n",
      "   macro avg     0.7232    0.7184    0.7190     57477\n",
      "weighted avg     0.7226    0.7216    0.7204     57477\n",
      "\n",
      "Confusion Matrix:\n",
      "[[15490  2591  1983]\n",
      " [ 2922 14705  2025]\n",
      " [ 3424  3059 11278]]\n"
     ]
    },
    {
     "data": {
      "image/png": "[encoded data removed]",
      "text/plain": [
       "<Figure size 600x500 with 2 Axes>"
      ]
     },
     "metadata": {},
     "output_type": "display_data"
    },
    {
     "data": {
      "image/png": "[encoded data removed]",
      "text/plain": [
       "<Figure size 640x480 with 1 Axes>"
      ]
     },
     "metadata": {},
     "output_type": "display_data"
    }
   ],
   "source": [
    "#Evaluate Model\n",
    "# logloss: The less is better\n",
    "logloss_xgb = log_loss(y_train, y_train_proba)\n",
    "print(f\"Logloss: {logloss_xgb:.4f}\")\n",
    "\n",
    "# accuracy\n",
    "acc_xgb = accuracy_score(y_train, y_train_pred)\n",
    "print(f\"Accuracy: {acc_xgb:.4f}\")\n",
    "\n",
    "# precision / recall / f1-score:\n",
    "print(\"Classification Report:\")\n",
    "print(classification_report(y_train, y_train_pred, digits=4))\n",
    "\n",
    "#confusion matrix\n",
    "cm_xgb = confusion_matrix(y_train, y_train_pred)\n",
    "\n",
    "print(\"Confusion Matrix:\")\n",
    "print(cm_xgb)\n",
    "\n",
    "labels = ['model_a', 'model_b', 'tie']\n",
    "plt.figure(figsize=(6, 5))\n",
    "sns.heatmap(cm_xgb, annot=True, fmt='d', cmap='Blues', xticklabels=labels, yticklabels=labels)\n",
    "plt.xlabel('Predicted')\n",
    "plt.ylabel('True')\n",
    "plt.title('Confusion Matrix Heatmap')\n",
    "plt.show()\n",
    "\n",
    "\n",
    "#ROC\n",
    "n_classes = 3 #len(np.unique(y_train))\n",
    "for i in range(n_classes):\n",
    "    fpr, tpr, _ = roc_curve((y_train == i).astype(int), y_train_proba[:, i])\n",
    "    roc_auc = auc(fpr, tpr)\n",
    "    plt.plot(fpr, tpr, label=f\"Class {i} (AUC = {roc_auc:.2f})\")\n",
    "\n",
    "plt.plot([0, 1], [0, 1], 'k--')\n",
    "plt.xlabel(\"False Positive Rate\")\n",
    "plt.ylabel(\"True Positive Rate\")\n",
    "plt.title(\"ROC Curve (One-vs-Rest)\")\n",
    "plt.legend()\n",
    "plt.show()\n",
    "\n"
   ]
  },
  {
   "cell_type": "code",
   "execution_count": 29,
   "id": "8d2eb02a",
   "metadata": {
    "execution": {
     "iopub.execute_input": "2025-06-28T01:28:07.035038Z",
     "iopub.status.busy": "2025-06-28T01:28:07.034727Z",
     "iopub.status.idle": "2025-06-28T01:28:07.043911Z",
     "shell.execute_reply": "2025-06-28T01:28:07.043131Z"
    },
    "papermill": {
     "duration": 0.022107,
     "end_time": "2025-06-28T01:28:07.045232",
     "exception": false,
     "start_time": "2025-06-28T01:28:07.023125",
     "status": "completed"
    },
    "tags": []
   },
   "outputs": [
    {
     "data": {
      "text/html": [
       "<div>\n",
       "<style scoped>\n",
       "    .dataframe tbody tr th:only-of-type {\n",
       "        vertical-align: middle;\n",
       "    }\n",
       "\n",
       "    .dataframe tbody tr th {\n",
       "        vertical-align: top;\n",
       "    }\n",
       "\n",
       "    .dataframe thead th {\n",
       "        text-align: right;\n",
       "    }\n",
       "</style>\n",
       "<table border=\"1\" class=\"dataframe\">\n",
       "  <thead>\n",
       "    <tr style=\"text-align: right;\">\n",
       "      <th></th>\n",
       "      <th>logistic regression</th>\n",
       "      <th>XGBoost</th>\n",
       "    </tr>\n",
       "  </thead>\n",
       "  <tbody>\n",
       "    <tr>\n",
       "      <th>logloss</th>\n",
       "      <td>0.984516</td>\n",
       "      <td>0.815618</td>\n",
       "    </tr>\n",
       "    <tr>\n",
       "      <th>accuracy</th>\n",
       "      <td>0.515545</td>\n",
       "      <td>0.721558</td>\n",
       "    </tr>\n",
       "  </tbody>\n",
       "</table>\n",
       "</div>"
      ],
      "text/plain": [
       "          logistic regression   XGBoost\n",
       "logloss              0.984516  0.815618\n",
       "accuracy             0.515545  0.721558"
      ]
     },
     "execution_count": 29,
     "metadata": {},
     "output_type": "execute_result"
    }
   ],
   "source": [
    "evaluated_model['XGBoost']['logloss'] = logloss_xgb\n",
    "evaluated_model['XGBoost']['accuracy'] = acc_xgb\n",
    "\n",
    "evaluated_table=pd.DataFrame(evaluated_model)\n",
    "evaluated_table"
   ]
  },
  {
   "cell_type": "markdown",
   "id": "10c3550a",
   "metadata": {
    "papermill": {
     "duration": 0.01075,
     "end_time": "2025-06-28T01:28:07.066924",
     "exception": false,
     "start_time": "2025-06-28T01:28:07.056174",
     "status": "completed"
    },
    "tags": []
   },
   "source": [
    "# Cross Validation"
   ]
  },
  {
   "cell_type": "code",
   "execution_count": null,
   "id": "6f3c0535",
   "metadata": {
    "papermill": {
     "duration": 0.010371,
     "end_time": "2025-06-28T01:28:07.088098",
     "exception": false,
     "start_time": "2025-06-28T01:28:07.077727",
     "status": "completed"
    },
    "tags": []
   },
   "outputs": [],
   "source": []
  }
 ],
 "metadata": {
  "kaggle": {
   "accelerator": "none",
   "dataSources": [
    {
     "databundleVersionId": 9809560,
     "sourceId": 86518,
     "sourceType": "competition"
    }
   ],
   "dockerImageVersionId": 31040,
   "isGpuEnabled": false,
   "isInternetEnabled": false,
   "language": "python",
   "sourceType": "notebook"
  },
  "kernelspec": {
   "display_name": "Python 3",
   "language": "python",
   "name": "python3"
  },
  "language_info": {
   "codemirror_mode": {
    "name": "ipython",
    "version": 3
   },
   "file_extension": ".py",
   "mimetype": "text/x-python",
   "name": "python",
   "nbconvert_exporter": "python",
   "pygments_lexer": "ipython3",
   "version": "3.11.11"
  },
  "papermill": {
   "default_parameters": {},
   "duration": 232.720705,
   "end_time": "2025-06-28T01:28:07.818299",
   "environment_variables": {},
   "exception": null,
   "input_path": "__notebook__.ipynb",
   "output_path": "__notebook__.ipynb",
   "parameters": {},
   "start_time": "2025-06-28T01:24:15.097594",
   "version": "2.6.0"
  }
 },
 "nbformat": 4,
 "nbformat_minor": 5
}
